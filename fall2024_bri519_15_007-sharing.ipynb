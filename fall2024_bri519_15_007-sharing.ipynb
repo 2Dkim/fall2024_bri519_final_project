{
 "cells": [
  {
   "cell_type": "markdown",
   "metadata": {},
   "source": [
    "\n",
    "<center> <h1> \n",
    "    7. Sharing code with others\n",
    "    </h1> </center>\n",
    "\n",
    "<center> <h3> October 23, 2024 </h3> </center>\n",
    "<h3> <p style='text-align: center;'>  Jong-Hwan Lee  </p> </h3> \n",
    "\n",
    "<p style='text-align: center; font-size: 15px'> Reference: Neuroimaging and Data Science by Ariel Rokem & Tal Yarkoni, 2021 (http://neuroimaging-data-science.org) \n",
    "</p>"
   ]
  },
  {
   "attachments": {},
   "cell_type": "markdown",
   "metadata": {},
   "source": [
    "Collaboration is an important part of science. \n",
    "\n",
    "The principles discussed in this chapter can be applied to collaborations with others, with your closest collaborator, and yourself for example from six months ago.\n",
    "- ultimately, your code can be used by complete strangers\n",
    "    - this would provide the ultimate proof of its reproducibility and give more impact than it could have if you were the only one using it\n",
    "\n",
    "## 7.1. What should be shareable?\n",
    "\n",
    "Jupyter notebooks can be used as a way to prototype code and to present ideas, the notebook format does not, by itself, readily support the implementation of reusuable code or code that is easy to test.\n",
    "\n",
    "Thus, it is usually recommended to move your code into python files from, for exmple, notebook files.\n",
    "\n",
    "Here, we'll learn a particular organization that facilitate the emergence of reusuable libraries of code that you can work on with others and follow the conventions of the Python language broadly.\n",
    "\n",
    "The pieces of code deserve to be written and shared in a manner that others can easily adopt into their code.\n",
    "- to this end, the code needs to be packaged into a library\n",
    "\n",
    "We'll do this by way of a simplified example."
   ]
  },
  {
   "attachments": {},
   "cell_type": "markdown",
   "metadata": {},
   "source": [
    "## 7.2. From notebook to module\n",
    "\n",
    "Suppose the following code in the course of our work on the analysis of some MRI data."
   ]
  },
  {
   "cell_type": "code",
   "execution_count": 2,
   "metadata": {},
   "outputs": [],
   "source": [
    "from math import pi\n",
    "import pandas as pd\n",
    "\n",
    "blob_data = pd.read_csv('./input_data/blob.csv')\n",
    "\n",
    "blob_radius = blob_data['radius']\n",
    "\n",
    "blob_area = pi * blob_radius ** 2\n",
    "blob_circ = 2 * pi * blob_radius\n",
    "\n",
    "output_data = pd.DataFrame({\"area\": blob_area, \"circ\": blob_circ})\n",
    "output_data.to_csv('./output_data/blob_properties.csv')"
   ]
  },
  {
   "attachments": {},
   "cell_type": "markdown",
   "metadata": {},
   "source": [
    "- although more details on Pandas in Section 9\n",
    "  - Pandas is a Python library that knows how to read data from comma-separated value (csv) files, and how to write this data back out\n",
    "\n",
    "This code is unfortunately not very reusable, even though the results are reproducible.\n",
    "- this is because it mixes file input and output with computations, and different computations with each other\n",
    "\n",
    "Good software engineering aims towards _modularity_ and _separation of concerns_.\n",
    "- one part of the code for calculations, and another part for the one that reads and manipulate the data, yet other functions for visualization the results or producing statistical summaries\n",
    "\n",
    "Our first step is to identify what are reusuable components of this script and to move these components into a module.\n",
    "- i.e., area and circumference calculations in this code \n",
    "\n",
    "Let's isolate them and rewrite them as functions:"
   ]
  },
  {
   "cell_type": "code",
   "execution_count": 3,
   "metadata": {},
   "outputs": [],
   "source": [
    "from math import pi\n",
    "import pandas as pd\n",
    "\n",
    "def calculate_area(r):\n",
    "    area = pi * r **2\n",
    "    return area\n",
    "\n",
    "def calculate_circ(r):\n",
    "    circ = 2 * pi * r\n",
    "    return circ\n",
    "\n",
    "blob_data = pd.read_csv('./input_data/blob.csv')\n",
    "blob_radius = blob_data['radius']\n",
    "blob_area = calculate_area(blob_radius)\n",
    "blob_circ = calculate_circ(blob_radius)\n",
    "\n",
    "output_data = pd.DataFrame({\"area\": blob_area, \"circ\": blob_circ})\n",
    "output_data.to_csv('./output_data/blob_properties.csv')"
   ]
  },
  {
   "attachments": {},
   "cell_type": "markdown",
   "metadata": {},
   "source": [
    "The next step may be the move of these functions into a separate file.\n",
    "\n",
    "Let's name this file as `geometry.py` with document what they do:"
   ]
  },
  {
   "cell_type": "code",
   "execution_count": 4,
   "metadata": {},
   "outputs": [],
   "source": [
    "from math import pi\n",
    "\n",
    "def calculate_area(r):\n",
    "    \"\"\"\n",
    "    Calculates the area of a circle.\n",
    "\n",
    "    Parameters\n",
    "    ----------\n",
    "    r : numerical\n",
    "        The radius of a circle\n",
    "\n",
    "    Returns\n",
    "    -------\n",
    "    area : numerical\n",
    "        The calculated area\n",
    "    \"\"\"\n",
    "    area = pi * r **2\n",
    "    return area\n",
    "\n",
    "\n",
    "def calculate_circ(r):\n",
    "    \"\"\"\n",
    "    Calculates the circumference of a circle.\n",
    "\n",
    "    Parameters\n",
    "    ----------\n",
    "    r : numerical\n",
    "        The radius of a circle\n",
    "\n",
    "    Returns\n",
    "    -------\n",
    "    circ : float or array\n",
    "        The calculated circumference\n",
    "    \"\"\"\n",
    "    circ = 2 * pi * r\n",
    "    return circ"
   ]
  },
  {
   "attachments": {},
   "cell_type": "markdown",
   "metadata": {},
   "source": [
    "- in documentation, at least a one-sentence description of the function, and detailed descriptions of the input parameters and outputs or returns\n",
    "    - in the docstrings of this example area carefully written to comply with the numpy docstring guide\n",
    "\n",
    "### 7.2.1. Importing and using functions\n",
    "\n",
    "Before we see how we'll use the `geometry` module that we created, let's learn a bit what happens when we call `import` statements in Python.\n",
    "- when we call the `import geometry` statement, Python starts by looking for a file called `geometry.py` in your present working directory\n",
    "\n",
    "Once you saved `geometry.py`, you can now rewrite the analysis script as:\n"
   ]
  },
  {
   "cell_type": "code",
   "execution_count": 5,
   "metadata": {},
   "outputs": [],
   "source": [
    "import geometry as geo\n",
    "import pandas as pd\n",
    "\n",
    "blob_data = pd.read_csv('./input_data/blob.csv')\n",
    "blob_radius = blob_data['radius']\n",
    "blob_area = geo.calculate_area(blob_radius)\n",
    "blob_circ = geo.calculate_circ(blob_radius)\n",
    "output_data = pd.DataFrame({\"area\": blob_area, \"circ\": blob_circ})\n",
    "output_data.to_csv('./output_data/blob_properties.csv')"
   ]
  },
  {
   "attachments": {},
   "cell_type": "markdown",
   "metadata": {},
   "source": [
    "- this is good because you can import and reuse these functions across different analysis scripts\n",
    "  \n",
    "We just learned a transition of a part of your code from a one-off notebook or script to a module.\n",
    "\n",
    "Next, let's see how you transition from a module to a library.\n",
    "\n",
    "## 7.3. From module to package\n",
    "\n",
    "Now, we are limited to using the code in the `geometry` module only.\n",
    "\n",
    "The next level of reusuability is to create a library, or a _package_, that can be installed and imported across multiple different projects.\n",
    "\n",
    "Again, when `import geometry` is called and if there is no file called `geometry.py` in the present working direction (pwd), Python look for a Python package called `geometry`.\n",
    "\n",
    "What is a Python package? \n",
    "- it's a folder that has a file called `__init__.py` \n",
    "\n",
    "This can be imported just like a module.\n",
    "- if the folder is in your pwd, importing it will execute the code in `__init__.py`\n",
    "\n",
    "For example, if you were to put the functions available in `geometry.py` in `geometry/__init__.py`\n",
    "- you could import them from the directory that contains the `geometry` directory\n",
    "\n",
    "More typically, a package might contain different modules that each have some code.\n",
    "\n",
    "For example:\n",
    "\n",
    "```\n",
    "    .\n",
    "    └── geometry\n",
    "        ├── __init__.py\n",
    "        └── circle.py\n",
    "```\n",
    "\n",
    "- the code previously had in `geometry.py` is now in the `circle.py` module of the `geometry` package\n",
    "\n",
    "To make the names in `circle.py` available to us, we can import them explicitly as follows:"
   ]
  },
  {
   "cell_type": "code",
   "execution_count": 4,
   "metadata": {},
   "outputs": [
    {
     "ename": "ImportError",
     "evalue": "cannot import name 'circle' from 'geometry' (/Users/jhlee/Library/CloudStorage/OneDrive-Personal/_lecture_OD/___2024fall/BRI519_뇌공학프로그래밍입문/__lnotes_github/bri519_fall2024_new2/bri519_fall2024/_lnotes/geometry.py)",
     "output_type": "error",
     "traceback": [
      "\u001b[0;31m---------------------------------------------------------------------------\u001b[0m",
      "\u001b[0;31mImportError\u001b[0m                               Traceback (most recent call last)",
      "Cell \u001b[0;32mIn[4], line 1\u001b[0m\n\u001b[0;32m----> 1\u001b[0m \u001b[38;5;28;01mfrom\u001b[39;00m \u001b[38;5;21;01mgeometry\u001b[39;00m \u001b[38;5;28;01mimport\u001b[39;00m circle\n\u001b[1;32m      2\u001b[0m circle\u001b[38;5;241m.\u001b[39mcalculate_area(blob_radius)\n",
      "\u001b[0;31mImportError\u001b[0m: cannot import name 'circle' from 'geometry' (/Users/jhlee/Library/CloudStorage/OneDrive-Personal/_lecture_OD/___2024fall/BRI519_뇌공학프로그래밍입문/__lnotes_github/bri519_fall2024_new2/bri519_fall2024/_lnotes/geometry.py)"
     ]
    }
   ],
   "source": [
    "from geometry import circle\n",
    "circle.calculate_area(blob_radius)"
   ]
  },
  {
   "attachments": {},
   "cell_type": "markdown",
   "metadata": {},
   "source": [
    "Or, we can have the `__init__.py` file import them for us by adding this code to the `__init__.py` file:\n",
    "\n",
    "``from .circle import calculate_area, calculate_circ``\n",
    "\n",
    "This way, we can import our functions as follows:"
   ]
  },
  {
   "cell_type": "code",
   "execution_count": 11,
   "metadata": {},
   "outputs": [],
   "source": [
    "from geometry import calculate_area"
   ]
  },
  {
   "attachments": {},
   "cell_type": "markdown",
   "metadata": {},
   "source": [
    "This implies that the `__init__.py` file can manage all the imports from the multiple modules that we want to add to the package.\n",
    "- also it can perform other operations that you might want to do whenever you import the package\n",
    "\n",
    "Now, you have your code in a package and you'll want to install the code in your machine so that you can import the code from anywhere on your machine (not only from this particular directory).\n",
    "- eventually, others can also easily install it and run it on their machines\n",
    "\n",
    "Here, we need to understand one more thing about the `import` statement.\n",
    "- if `import` cannot find a module or package locally in the pwd, it will proceed to look for this name somewhere in the Python _path_\n",
    "\n",
    "The Python path is a list of file system locations that Python uses to search for packages and modules to import.\n",
    "\n",
    "Let's try this:"
   ]
  },
  {
   "cell_type": "code",
   "execution_count": 2,
   "metadata": {},
   "outputs": [
    {
     "name": "stdout",
     "output_type": "stream",
     "text": [
      "['/Users/jhlee/opt/anaconda3/envs/my_env_py3p12/lib/python312.zip', '/Users/jhlee/opt/anaconda3/envs/my_env_py3p12/lib/python3.12', '/Users/jhlee/opt/anaconda3/envs/my_env_py3p12/lib/python3.12/lib-dynload', '', '/Users/jhlee/opt/anaconda3/envs/my_env_py3p12/lib/python3.12/site-packages', '/Users/jhlee/opt/anaconda3/envs/my_env_py3p12/lib/python3.12/site-packages/setuptools/_vendor']\n"
     ]
    }
   ],
   "source": [
    "import sys\n",
    "print(sys.path)"
   ]
  },
  {
   "attachments": {},
   "cell_type": "markdown",
   "metadata": {},
   "source": [
    "- we need to copy the code into one of these file system locations \n",
    "\n",
    "To this end, let's let Python do this for us using the `setuptools` library.\n",
    "\n",
    "The main instrument for `setuptools` operations is a file called `setup.py` file which will be introduced in the next section."
   ]
  },
  {
   "attachments": {},
   "cell_type": "markdown",
   "metadata": {},
   "source": [
    "## 7.4. The setup file\n",
    "\n",
    "Suppose a scenario that you want to use the code that you have written across multiple projects, or share it with others for them to use in their projects\n",
    "\n",
    "You also want to organize the files in a separate directory devoted to your library:\n",
    "\n",
    "```\n",
    "    .\n",
    "    └── geometry\n",
    "        ├── geometry\n",
    "        │   ├── __init__.py\n",
    "        │   └── circle.py\n",
    "        └── setup.py\n",
    "```\n",
    "\n",
    "Notice that we have two directories called `geometry`:\n",
    "- the top-level directory contains both our Python package (i.e., the `geometry` package) and other files to organize our project\n",
    "\n",
    "For example, the file called `setup.py` is saved in the top-level directory of our library.\n",
    "- tell Python how to set our software up and how to install it\n",
    "- within this file, we rely on the Python standard library [setuptools](https://setuptools.readthedocs.io/en/latest/) module to do a lot of the work\n",
    "    - we need to provide some metadata about our software and some information about the available packages within our software\n",
    "\n",
    "For example, here's a minimal setup file:"
   ]
  },
  {
   "cell_type": "code",
   "execution_count": 5,
   "metadata": {},
   "outputs": [
    {
     "ename": "SystemExit",
     "evalue": "usage: ipykernel_launcher.py [global_opts] cmd1 [cmd1_opts] [cmd2 [cmd2_opts] ...]\n   or: ipykernel_launcher.py --help [cmd1 cmd2 ...]\n   or: ipykernel_launcher.py --help-commands\n   or: ipykernel_launcher.py cmd --help\n\nerror: option --fullname must not have an argument",
     "output_type": "error",
     "traceback": [
      "An exception has occurred, use %tb to see the full traceback.\n",
      "\u001b[0;31mSystemExit\u001b[0m\u001b[0;31m:\u001b[0m usage: ipykernel_launcher.py [global_opts] cmd1 [cmd1_opts] [cmd2 [cmd2_opts] ...]\n   or: ipykernel_launcher.py --help [cmd1 cmd2 ...]\n   or: ipykernel_launcher.py --help-commands\n   or: ipykernel_launcher.py cmd --help\n\nerror: option --fullname must not have an argument\n"
     ]
    },
    {
     "name": "stderr",
     "output_type": "stream",
     "text": [
      "/Users/jhlee/opt/anaconda3/envs/my_env_py3p12/lib/python3.12/site-packages/IPython/core/interactiveshell.py:3585: UserWarning: To exit: use 'exit', 'quit', or Ctrl-D.\n",
      "  warn(\"To exit: use 'exit', 'quit', or Ctrl-D.\", stacklevel=1)\n"
     ]
    }
   ],
   "source": [
    "from setuptools import setup, find_packages\n",
    "\n",
    "with open(\"README.md\", \"r\") as fh:\n",
    "    long_description = fh.read()\n",
    "\n",
    "setup(\n",
    "    name=\"geometry\",\n",
    "    version=\"0.0.1\",\n",
    "    author=\"Ariel Rokem\",\n",
    "    author_email=\"author@example.com\",\n",
    "    description=\"Calculating geometric things\",\n",
    "    long_description=long_description,\n",
    "    long_description_content_type=\"text/markdown\",\n",
    "    url=\"https://github.com/arokem/geometry\",\n",
    "    packages=find_packages(),\n",
    "    classifiers=[\n",
    "        \"Programming Language :: Python :: 3\",\n",
    "        \"License :: OSI Approved :: MIT Licence\",\n",
    "        \"Operating System :: OS Independent\",\n",
    "        \"Intended Audience :: Science/Research\",\n",
    "        \"Topic :: Scientific/Engineering\"\n",
    "    ],\n",
    "    python_requires='>=3.8',\n",
    "    install_requires=[\"pandas\"]\n",
    ")"
   ]
  },
  {
   "attachments": {},
   "cell_type": "markdown",
   "metadata": {},
   "source": [
    "The code of this file is a call to a function called `setup`.\n",
    "- with [many different options](https://setuptools.readthedocs.io/en/latest/setuptools.html#command-reference)\n",
    "- one of the options is `install`: take all the steps needed to properly install the software in the right way into your Python path\n",
    "\n",
    "One you are done with writing and organizing the files and folderes in your Python library in the right way, you can call:\n",
    "\n",
    "``python setup.py install`\n",
    "\n",
    "- then, you will be able to find this library from anywhere in your filesystem and use the functions stored within it\n",
    "\n",
    "Next, let's look at the contents of the file section by section.\n",
    "\n",
    "### 7.4.1. Contents of a setup.py file\n",
    "\n",
    "The first thing in the `setup.py` (after the `import` statements) is a long_description from a README file.\n",
    "- e.g., in GitHub, to track the changes in your code and to collaborate with others, it is a good idea to use the markdown format (with the `.md` extention) for this\n",
    "\n",
    "Let's write something informative in the README.md file:\n",
    "\n",
    "```\n",
    "# geometry\n",
    "\n",
    "This is a library of functions for geometric calculations.\n",
    "\n",
    "# Contributing\n",
    "\n",
    "We welcome contributions from the community. Please create a fork of the\n",
    "project on GitHub and use a pull request to propose your changes. We strongly encourage creating\n",
    "an issue before starting to work on major changes, to discuss these changes first.\n",
    "\n",
    "# Getting help\n",
    "\n",
    "Please post issues on the project GitHub page.\n",
    "```"
   ]
  },
  {
   "attachments": {},
   "cell_type": "markdown",
   "metadata": {},
   "source": [
    "The second thing that happens is a call to the setup function.\n",
    "- take several keyword arguments\n",
    "\n",
    "The first few ones are general meta-data about the software:\n",
    "```\n",
    "name=\"geometry\",\n",
    "author=\"Ariel Rokem\",\n",
    "author_email=\"author@example.com\",\n",
    "description=\"Calculating geometric things\",\n",
    "long_description=long_description,\n",
    "```\n",
    "\n",
    "The next one to make sure that the long description gets properly rendered in web pages (e.g., the Python package index, [PyPi](https://pypi.org/)):\n",
    "\n",
    "`long_description_content_type=\"text/markdown\",`\n",
    "\n",
    "Another kind of meta-data is classifiers to catalog the software within PyPI so that interested users can more easily find it:\n",
    "\n",
    "```\n",
    "classifiers=[\n",
    "    \"Programming Language :: Python :: 3\",\n",
    "    \"License :: OSI Approved :: MIT License\",\n",
    "    \"Operating System :: OS Independent\",\n",
    "    \"Intended Audience :: Science/Research\",\n",
    "    \"Topic :: Scientific/Engineering\"\n",
    "],\n",
    "```\n",
    "\n",
    "- licence: it is best to use a standard [OSI-approved license](https://opensource.org/licenses) and the MIT license for publicly providing the software including towards commercial applications\n",
    "\n",
    "Then, the version of the software \n",
    "- the [semantic versioning conventions](https://semver.org/)\n",
    "- e.g., `version=\"0.0.1\",`\n",
    "\n",
    "A URL for the software\n",
    "- e.g., `url=\"https://github.com/arokem/geometry\",`\n",
    "\n",
    "The next item calls a `setuptools` function \n",
    "- automatically traverse the filesystem in this directory and find the packages/sub-packages\n",
    "- e.g., `packages = find_packages(),` \n",
    "\n",
    "Alternatively, we can explicitly write out the names of the packages to install as part of the software\n",
    "- e.g., `packages=['geometry']`\n",
    "\n",
    "The last two items defines the dependencies of the software.\n",
    "- e.g., \n",
    "\n",
    "```\n",
    "python_requires = '>=3.8',\n",
    "install_requires = [\"pandas\"]\n",
    "```\n",
    "\n",
    "\n"
   ]
  },
  {
   "attachments": {},
   "cell_type": "markdown",
   "metadata": {},
   "source": [
    "## 7.5. A complete project\n",
    "\n",
    "Now, our project is starting to take shape with the following filesystem of our library:\n",
    "\n",
    "```\n",
    "    .\n",
    "    └── geometry\n",
    "        ├── LICENSE\n",
    "        ├── README.md\n",
    "        ├── geometry\n",
    "        │   ├── __init__.py\n",
    "        │   └── circle.py\n",
    "        └── setup.py\n",
    "```\n",
    "\n",
    "We can add all these files and then push into a repository on GitHub!\n",
    "\n",
    "A few further steps to take remained.\n",
    "\n",
    "### 7.5.1. Testing and continuous integration\n",
    "\n",
    "As it was introduced in Section 6, tests are particularly useful if they are automated and run repeatedly.\n",
    "\n",
    "In the context of well-organized Python project, this can be achieved by including a test module for every package in the library.\n",
    "\n",
    "For example, we can add a `tests` package within our `geometry` package:\n",
    "\n",
    "```\n",
    "    .\n",
    "    └── geometry\n",
    "        ├── LICENSE\n",
    "        ├── README.md\n",
    "        ├── geometry\n",
    "        │   ├── __init__.py\n",
    "        |   ├── tests\n",
    "        |   │   ├── __init__.py\n",
    "        |   |   └── test_circle.py\n",
    "        │   └── circle.py\n",
    "        └── setup.py\n",
    "```\n",
    "\n",
    "Where `__init__.py` is an empty file, signaling that the `tests` folder is a package as well and the `test_circle.py` file may contain a simple set of functions for testing as follows:"
   ]
  },
  {
   "cell_type": "code",
   "execution_count": null,
   "metadata": {},
   "outputs": [],
   "source": [
    "from geometry.circle import calculate_area\n",
    "from math import pi\n",
    "\n",
    "def test_calculate_area():\n",
    "    assert calculate_area(1) == pi"
   ]
  },
  {
   "attachments": {},
   "cell_type": "markdown",
   "metadata": {},
   "source": [
    "- this will test that the `calculate_area` function does the right thing\n",
    "\n",
    "To take advantage of systems that automate the running of tests as much as possible (sometimes denoted as \"test harnesses\"), [Pytest](https://docs.pytest.org/), one popular test harness for Python, can be used.\n",
    "- the Pytest test harness identifies functions that are software tests by looking for them in files whose names start with `test_` or end with `_test.py\"\n",
    "  - it runs these functions and keeps track of the functions that pass the test - do not raise errors - and those that fail - do raise errors\n",
    "\n",
    "Another approach for automating your testing is called \"continuous integration\".\n",
    "- the system keeps track of versions of your code, e.g., the GitHub website - also automatically runs all of the tests that you wrote every time that you make changes to the code\n",
    "  - the tests can be run on the code before it is integrated into the `main` branch, allowing contributors to fix changes that cause test failures before they are merged\n",
    "- continous integration is implemented in GitHub through a system called \"[GitHub Actions](https://github.com/features/actions)\"\n"
   ]
  },
  {
   "attachments": {},
   "cell_type": "markdown",
   "metadata": {},
   "source": [
    "### 7.5.2. Documentation\n",
    "\n",
    "A further step is to write more detailed documentation and make the documentation available together with your software.\n",
    "- routinely used system across the Python universe is [Sphinx](https://www.sphinx-doc.org/en/master/)\n"
   ]
  },
  {
   "attachments": {},
   "cell_type": "markdown",
   "metadata": {},
   "source": [
    "## 7.6. Summary\n",
    "\n",
    "When you make the software that you write for your use easy to install and openly available, you'll make your work easier to reproduce, and also easier to extend.\n",
    "- other people might start using it\n",
    "    - some of them might run into bugs and issues with the software; some of them might even contact you to ask for help with the software\n",
    "    - this could lead to fruitful collaborations with other researchers who use your software\n",
    "\n",
    "It could have an impact on the understanding of the universe, and the improvement of the human condition.\n",
    "- some people have made careers out of building and supporting a community of users and developers around software that they write and maintain\n",
    "\n",
    "Also, it is also fine to let people know that the software is provided openly, but it is provided with no assurance of any support.\n",
    "\n",
    "### 7.6.1. Software citation and attribution\n",
    "\n",
    "It is common to cite a paper for the findings and ideas in it when we perform our research.\n",
    "- less common to the notion that software should also be cited\n",
    "\n",
    "In recent years, an increased effort to provide ways for researchers to cite software, and for researchers who share their software to be cited.\n",
    "- to do this, make sure that your software has a Digital Object Identifier (DOI)\n",
    "    - many journals require that a DOI be assigned to a digital object, particularly, the paper/article\n",
    "    - one way to do this is through a service adminstered by the European Council for Nuclear Research (CERN) called [Zenodo](https://zenodo.org/)"
   ]
  },
  {
   "attachments": {},
   "cell_type": "markdown",
   "metadata": {},
   "source": [
    "## 7.7. Additional resources\n",
    "\n",
    "The Python community put together the [Python Packaging Authority (PyPA) website](https://www.pypa.io/en/latest/)\n",
    "- explains how to package and distribute Python code\n",
    "\n",
    "We learned about the conda package manager in Section 4.1.\n",
    "- another great way to distribute scientific software using conda is provided through the [Conda Forge](https://conda-forge.org/) project\n",
    "\n",
    "Jake Vanderplas's useful [blog post](https://www.astrobetter.com/blog/2014/03/10/the-whys-and-hows-of-licensing-scientific-code/) on the topic of scientific software licensing\n",
    "\n",
    "A book, [Producing Open Source Software](https://producingoss.com/) by Karl Fogel\n",
    "- everything from naming an open-source software project to legal and management issues such as licensing, distribution, and intellectual property rights"
   ]
  },
  {
   "attachments": {},
   "cell_type": "markdown",
   "metadata": {},
   "source": [
    "\n",
    "<center> <h1> Thank you! </h1>\n",
    "\n",
    "<h1> Q/A? </h1> </center>\n",
    "\n",
    "<p style='text-align: right; font-size: 10px'> 7. Sharing code with others </p>"
   ]
  }
 ],
 "metadata": {
  "kernelspec": {
   "display_name": "my_env_py3p12",
   "language": "python",
   "name": "python3"
  },
  "language_info": {
   "codemirror_mode": {
    "name": "ipython",
    "version": 3
   },
   "file_extension": ".py",
   "mimetype": "text/x-python",
   "name": "python",
   "nbconvert_exporter": "python",
   "pygments_lexer": "ipython3",
   "version": "3.12.7"
  },
  "orig_nbformat": 4
 },
 "nbformat": 4,
 "nbformat_minor": 2
}
